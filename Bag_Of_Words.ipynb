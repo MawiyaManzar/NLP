{
 "cells": [
  {
   "cell_type": "code",
   "execution_count": 2,
   "metadata": {},
   "outputs": [],
   "source": [
    "import pandas as pd\n",
    "messages=pd.read_csv('smsclass.csv',\n",
    "                    sep='\\t',names=[\"label\",\"message\"])"
   ]
  },
  {
   "cell_type": "code",
   "execution_count": 3,
   "metadata": {},
   "outputs": [
    {
     "name": "stderr",
     "output_type": "stream",
     "text": [
      "[nltk_data] Downloading package stopwords to\n",
      "[nltk_data]     C:\\Users\\mawiy\\AppData\\Roaming\\nltk_data...\n",
      "[nltk_data]   Package stopwords is already up-to-date!\n"
     ]
    },
    {
     "data": {
      "text/plain": [
       "True"
      ]
     },
     "execution_count": 3,
     "metadata": {},
     "output_type": "execute_result"
    }
   ],
   "source": [
    "## Data Cleaning And Preprocessing\n",
    "import re\n",
    "import nltk\n",
    "nltk.download('stopwords')"
   ]
  },
  {
   "cell_type": "code",
   "execution_count": 4,
   "metadata": {},
   "outputs": [
    {
     "data": {
      "text/html": [
       "<div>\n",
       "<style scoped>\n",
       "    .dataframe tbody tr th:only-of-type {\n",
       "        vertical-align: middle;\n",
       "    }\n",
       "\n",
       "    .dataframe tbody tr th {\n",
       "        vertical-align: top;\n",
       "    }\n",
       "\n",
       "    .dataframe thead th {\n",
       "        text-align: right;\n",
       "    }\n",
       "</style>\n",
       "<table border=\"1\" class=\"dataframe\">\n",
       "  <thead>\n",
       "    <tr style=\"text-align: right;\">\n",
       "      <th></th>\n",
       "      <th>label</th>\n",
       "      <th>message</th>\n",
       "    </tr>\n",
       "  </thead>\n",
       "  <tbody>\n",
       "    <tr>\n",
       "      <th>0</th>\n",
       "      <td>ham</td>\n",
       "      <td>Go until jurong point, crazy.. Available only ...</td>\n",
       "    </tr>\n",
       "    <tr>\n",
       "      <th>1</th>\n",
       "      <td>ham</td>\n",
       "      <td>Ok lar... Joking wif u oni...</td>\n",
       "    </tr>\n",
       "    <tr>\n",
       "      <th>2</th>\n",
       "      <td>spam</td>\n",
       "      <td>Free entry in 2 a wkly comp to win FA Cup fina...</td>\n",
       "    </tr>\n",
       "    <tr>\n",
       "      <th>3</th>\n",
       "      <td>ham</td>\n",
       "      <td>U dun say so early hor... U c already then say...</td>\n",
       "    </tr>\n",
       "    <tr>\n",
       "      <th>4</th>\n",
       "      <td>ham</td>\n",
       "      <td>Nah I don't think he goes to usf, he lives aro...</td>\n",
       "    </tr>\n",
       "    <tr>\n",
       "      <th>...</th>\n",
       "      <td>...</td>\n",
       "      <td>...</td>\n",
       "    </tr>\n",
       "    <tr>\n",
       "      <th>5567</th>\n",
       "      <td>spam</td>\n",
       "      <td>This is the 2nd time we have tried 2 contact u...</td>\n",
       "    </tr>\n",
       "    <tr>\n",
       "      <th>5568</th>\n",
       "      <td>ham</td>\n",
       "      <td>Will ü b going to esplanade fr home?</td>\n",
       "    </tr>\n",
       "    <tr>\n",
       "      <th>5569</th>\n",
       "      <td>ham</td>\n",
       "      <td>Pity, * was in mood for that. So...any other s...</td>\n",
       "    </tr>\n",
       "    <tr>\n",
       "      <th>5570</th>\n",
       "      <td>ham</td>\n",
       "      <td>The guy did some bitching but I acted like i'd...</td>\n",
       "    </tr>\n",
       "    <tr>\n",
       "      <th>5571</th>\n",
       "      <td>ham</td>\n",
       "      <td>Rofl. Its true to its name</td>\n",
       "    </tr>\n",
       "  </tbody>\n",
       "</table>\n",
       "<p>5572 rows × 2 columns</p>\n",
       "</div>"
      ],
      "text/plain": [
       "     label                                            message\n",
       "0      ham  Go until jurong point, crazy.. Available only ...\n",
       "1      ham                      Ok lar... Joking wif u oni...\n",
       "2     spam  Free entry in 2 a wkly comp to win FA Cup fina...\n",
       "3      ham  U dun say so early hor... U c already then say...\n",
       "4      ham  Nah I don't think he goes to usf, he lives aro...\n",
       "...    ...                                                ...\n",
       "5567  spam  This is the 2nd time we have tried 2 contact u...\n",
       "5568   ham               Will ü b going to esplanade fr home?\n",
       "5569   ham  Pity, * was in mood for that. So...any other s...\n",
       "5570   ham  The guy did some bitching but I acted like i'd...\n",
       "5571   ham                         Rofl. Its true to its name\n",
       "\n",
       "[5572 rows x 2 columns]"
      ]
     },
     "execution_count": 4,
     "metadata": {},
     "output_type": "execute_result"
    }
   ],
   "source": [
    "messages"
   ]
  },
  {
   "cell_type": "code",
   "execution_count": 29,
   "metadata": {},
   "outputs": [],
   "source": [
    "from nltk.corpus import stopwords\n",
    "from nltk.stem import WordNetLemmatizer\n",
    "ps=WordNetLemmatizer()"
   ]
  },
  {
   "cell_type": "code",
   "execution_count": null,
   "metadata": {},
   "outputs": [],
   "source": [
    "corpus=[]\n",
    "for i in range(0,len(messages)):\n",
    "    review=re.sub('[^a-zA-z]',' ',messages['message'][i])\n",
    "    review=review.split()\n",
    "    review=review.lower()\n",
    "    review=[ps.lemmatize(word) for word in review if not word in stopwords.words('english')]\n",
    "    review=' '.join(review)\n",
    "    corpus.append(review)"
   ]
  },
  {
   "cell_type": "code",
   "execution_count": 7,
   "metadata": {},
   "outputs": [],
   "source": [
    "## Create the Bag OF Words model\n",
    "from sklearn.feature_extraction.text import CountVectorizer\n",
    "## for Binary BOW enable binary=True\n",
    "cv=CountVectorizer(max_features=100,binary=True)"
   ]
  },
  {
   "cell_type": "code",
   "execution_count": 8,
   "metadata": {},
   "outputs": [],
   "source": [
    "X=cv.fit_transform(corpus).toarray()"
   ]
  },
  {
   "cell_type": "code",
   "execution_count": 32,
   "metadata": {},
   "outputs": [],
   "source": [
    "cv=CountVectorizer(max_features=100,binary=True,ngram_range=(4,4))"
   ]
  },
  {
   "cell_type": "code",
   "execution_count": 33,
   "metadata": {},
   "outputs": [],
   "source": [
    "X=cv.fit_transform(corpus).toarray()"
   ]
  },
  {
   "cell_type": "code",
   "execution_count": 34,
   "metadata": {},
   "outputs": [
    {
     "data": {
      "text/plain": [
       "{'entitled update latest colour': np.int64(26),\n",
       " 'free call mobile update': np.int64(29),\n",
       " 'please call customer service': np.int64(62),\n",
       " 'call customer service representative': np.int64(6),\n",
       " 'last weekend draw show': np.int64(42),\n",
       " 'draw show prize guaranteed': np.int64(25),\n",
       " 'show prize guaranteed call': np.int64(74),\n",
       " 'speak live operator claim': np.int64(78),\n",
       " 'private account statement show': np.int64(67),\n",
       " 'call identifier code expires': np.int64(7),\n",
       " 'friend reply yes see': np.int64(32),\n",
       " 'yes see www sm': np.int64(99),\n",
       " 'secret admirer looking make': np.int64(73),\n",
       " 'admirer looking make contact': np.int64(1),\n",
       " 'looking make contact find': np.int64(46),\n",
       " 'make contact find reveal': np.int64(49),\n",
       " 'contact find reveal think': np.int64(20),\n",
       " 'find reveal think ur': np.int64(28),\n",
       " 'reveal think ur special': np.int64(71),\n",
       " 'think ur special call': np.int64(83),\n",
       " 'ldew com win ppmx': np.int64(44),\n",
       " 'cant pick phone right': np.int64(13),\n",
       " 'pick phone right pls': np.int64(61),\n",
       " 'phone right pls send': np.int64(60),\n",
       " 'right pls send message': np.int64(72),\n",
       " 'latest colour camera mobile': np.int64(43),\n",
       " 'pound maximize ur cash': np.int64(66),\n",
       " 'maximize ur cash send': np.int64(50),\n",
       " 'hg suite land row': np.int64(37),\n",
       " 'suite land row hl': np.int64(81),\n",
       " 'call mobileupd call optout': np.int64(9),\n",
       " 'urgent mobile number awarded': np.int64(94),\n",
       " 'awarded prize guaranteed call': np.int64(2),\n",
       " 'prize guaranteed call land': np.int64(69),\n",
       " 'guaranteed call land line': np.int64(35),\n",
       " 'call land line claim': np.int64(8),\n",
       " 'land line claim valid': np.int64(39),\n",
       " 'line claim valid hr': np.int64(45),\n",
       " 'lt gt lt gt': np.int64(47),\n",
       " 'bonus caller prize nd': np.int64(4),\n",
       " 'caller prize nd attempt': np.int64(12),\n",
       " 'nd attempt contact call': np.int64(54),\n",
       " 'claim ur worth discount': np.int64(16),\n",
       " 'ur worth discount voucher': np.int64(93),\n",
       " 'account statement show un': np.int64(0),\n",
       " 'statement show un redeemed': np.int64(80),\n",
       " 'show un redeemed point': np.int64(75),\n",
       " 'un redeemed point call': np.int64(90),\n",
       " 'redeemed point call identifier': np.int64(70),\n",
       " 'point call identifier code': np.int64(65),\n",
       " 'free st week nokia': np.int64(31),\n",
       " 'st week nokia tone': np.int64(79),\n",
       " 'week nokia tone ur': np.int64(96),\n",
       " 'every week txt nokia': np.int64(27),\n",
       " 'week txt nokia get': np.int64(97),\n",
       " 'txt nokia get txting': np.int64(88),\n",
       " 'nokia get txting tell': np.int64(56),\n",
       " 'get txting tell ur': np.int64(33),\n",
       " 'txting tell ur mate': np.int64(89),\n",
       " 'ur mate www getzed': np.int64(91),\n",
       " 'www getzed co uk': np.int64(98),\n",
       " 'getzed co uk pobox': np.int64(34),\n",
       " 'co uk pobox wq': np.int64(17),\n",
       " 'pobox wq norm tone': np.int64(64),\n",
       " 'holiday cash await collection': np.int64(38),\n",
       " 'cash await collection sae': np.int64(14),\n",
       " 'collection sae po box': np.int64(19),\n",
       " 'half price line rental': np.int64(36),\n",
       " 'urgent trying contact today': np.int64(95),\n",
       " 'trying contact today draw': np.int64(87),\n",
       " 'contact today draw show': np.int64(21),\n",
       " 'today draw show prize': np.int64(85),\n",
       " 'nokia tone ur mob': np.int64(57),\n",
       " 'tone ur mob every': np.int64(86),\n",
       " 'ur mob every week': np.int64(92),\n",
       " 'mob every week txt': np.int64(53),\n",
       " 'awarded sipix digital camera': np.int64(3),\n",
       " 'sipix digital camera call': np.int64(76),\n",
       " 'landline delivery within day': np.int64(41),\n",
       " 'land row hl ldn': np.int64(40),\n",
       " 'min stop text call': np.int64(52),\n",
       " 'call per min ntt': np.int64(10),\n",
       " 'per min ntt ltd': np.int64(59),\n",
       " 'min ntt ltd po': np.int64(51),\n",
       " 'ntt ltd po box': np.int64(58),\n",
       " 'ltd po box croydon': np.int64(48),\n",
       " 'po box croydon cr': np.int64(63),\n",
       " 'box croydon cr wb': np.int64(5),\n",
       " 'nd time tried contact': np.int64(55),\n",
       " 'prize claim easy call': np.int64(68),\n",
       " 'claim easy call per': np.int64(15),\n",
       " 'costa del sol holiday': np.int64(24),\n",
       " 'collection call toclaim sae': np.int64(18),\n",
       " 'call toclaim sae tc': np.int64(11),\n",
       " 'toclaim sae tc pobox': np.int64(84),\n",
       " 'sk xh cost pm': np.int64(77),\n",
       " 'cost pm max min': np.int64(23),\n",
       " 'convey birthday wish nimya': np.int64(22),\n",
       " 'text free camcorder reply': np.int64(82),\n",
       " 'free camcorder reply call': np.int64(30)}"
      ]
     },
     "execution_count": 34,
     "metadata": {},
     "output_type": "execute_result"
    }
   ],
   "source": [
    "cv.vocabulary_"
   ]
  },
  {
   "cell_type": "code",
   "execution_count": null,
   "metadata": {},
   "outputs": [],
   "source": []
  }
 ],
 "metadata": {
  "kernelspec": {
   "display_name": "newenv",
   "language": "python",
   "name": "python3"
  },
  "language_info": {
   "codemirror_mode": {
    "name": "ipython",
    "version": 3
   },
   "file_extension": ".py",
   "mimetype": "text/x-python",
   "name": "python",
   "nbconvert_exporter": "python",
   "pygments_lexer": "ipython3",
   "version": "3.12.8"
  }
 },
 "nbformat": 4,
 "nbformat_minor": 2
}
